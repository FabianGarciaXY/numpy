{
 "cells": [
  {
   "cell_type": "markdown",
   "id": "21bbaec1-22ac-4cdf-a570-a97a1f9df63b",
   "metadata": {},
   "source": [
    "\n",
    "# **SIMPLE LINEAR REGRESSION**\n",
    "### Supervised learning"
   ]
  },
  {
   "cell_type": "code",
   "execution_count": 1,
   "id": "fd13990b-c93d-46cd-98f8-d340e9a3b89e",
   "metadata": {},
   "outputs": [],
   "source": [
    "import matplotlib.pyplot as plt\n",
    "import matplotlib.lines as lines\n",
    "import numpy as np"
   ]
  },
  {
   "cell_type": "code",
   "execution_count": null,
   "id": "82d8b9c6-d7cd-41b2-9d75-5be79f93fb20",
   "metadata": {},
   "outputs": [],
   "source": [
    "# list themes: jt -l\n",
    "# Select theme: jt -t theme name\n",
    "!pip install jupyterthemes"
   ]
  },
  {
   "cell_type": "code",
   "execution_count": 4,
   "id": "89138116-379d-44f7-b9f0-24c20da01d7f",
   "metadata": {},
   "outputs": [
    {
     "ename": "NameError",
     "evalue": "name 'jupyterthemes' is not defined",
     "output_type": "error",
     "traceback": [
      "\u001b[0;31m---------------------------------------------------------------------------\u001b[0m",
      "\u001b[0;31mNameError\u001b[0m                                 Traceback (most recent call last)",
      "Input \u001b[0;32mIn [4]\u001b[0m, in \u001b[0;36m<module>\u001b[0;34m\u001b[0m\n\u001b[0;32m----> 1\u001b[0m \u001b[43mjupyterthemes\u001b[49m \u001b[38;5;241m-\u001b[39ml\n",
      "\u001b[0;31mNameError\u001b[0m: name 'jupyterthemes' is not defined"
     ]
    }
   ],
   "source": []
  },
  {
   "cell_type": "code",
   "execution_count": 25,
   "id": "d0adc628-5e3f-45df-8f9d-e1b525962d53",
   "metadata": {},
   "outputs": [],
   "source": [
    "# x dinero invertido\n",
    "# y dinero ganado\n",
    "\n",
    "x = np.array([0, 6.5, 13.2, 19, 24.1, 28.4, 37.1])\n",
    "y = np.array([5, 10, 17, 20, 25, 30, 36])"
   ]
  },
  {
   "cell_type": "code",
   "execution_count": 30,
   "id": "de823c93-f641-4258-8f77-d3be5ab82c34",
   "metadata": {},
   "outputs": [
    {
     "data": {
      "image/png": "[encoded data removed]",
      "text/plain": [
       "<Figure size 504x504 with 1 Axes>"
      ]
     },
     "metadata": {
      "needs_background": "light"
     },
     "output_type": "display_data"
    }
   ],
   "source": [
    "plt.figure(figsize=(7, 7))\n",
    "plt.scatter(x, y, s=60)\n",
    "plt.ylim(bottom=0)\n",
    "plt.title('Values')\n",
    "plt.xlabel('Quantity invested')\n",
    "plt.ylabel('Quantity to earn')\n",
    "plt.grid()\n",
    "plt.show()"
   ]
  },
  {
   "cell_type": "code",
   "execution_count": 50,
   "id": "6b10b4ad-ecf1-430c-9c02-94cb2a9b83cc",
   "metadata": {},
   "outputs": [],
   "source": [
    "x2 = np.arange(0, 40)\n",
    "y2 = 0.85 * x2 + 5"
   ]
  },
  {
   "cell_type": "code",
   "execution_count": 51,
   "id": "6d350d31-bace-4896-9822-c47f99edc669",
   "metadata": {},
   "outputs": [
    {
     "data": {
      "image/png": "[encoded data removed]",
      "text/plain": [
       "<Figure size 504x504 with 1 Axes>"
      ]
     },
     "metadata": {
      "needs_background": "light"
     },
     "output_type": "display_data"
    }
   ],
   "source": [
    "plt.figure(figsize=(7, 7))\n",
    "plt.plot(x2, y2, color='red', label='Solución')\n",
    "plt.scatter(x, y, s=60)\n",
    "plt.ylim(bottom=0)\n",
    "plt.title('Values')\n",
    "plt.xlabel('Quantity invested')\n",
    "plt.ylabel('Quantity to earn')\n",
    "plt.grid()\n",
    "plt.show()"
   ]
  },
  {
   "cell_type": "markdown",
   "id": "705426f8-ca91-4156-8c5f-a00eac5b4e08",
   "metadata": {},
   "source": [
    "# Regression lineal multiple"
   ]
  },
  {
   "cell_type": "code",
   "execution_count": 5,
   "id": "ea7474b5-ac29-4cfc-bf50-6bbb3b72d064",
   "metadata": {},
   "outputs": [],
   "source": [
    "# x1 dinero invertido\n",
    "# x2 temperatura del año anterior\n",
    "# y dinero ganado\n",
    "# Ahora se cuenta con tres dimensiones\n",
    "x1 = np.array([0, 6.5, 13.2, 19, 24.1, 28.4, 37.1])\n",
    "x2 = np.array([22, 23, 24, 21, 10, 17, 8])\n",
    "\n",
    "y = np.array([5, 10, 17, 20, 25, 30, 35])"
   ]
  },
  {
   "cell_type": "code",
   "execution_count": 13,
   "id": "522c2d89-3da0-40ba-9fd8-b35c587ed048",
   "metadata": {},
   "outputs": [
    {
     "name": "stdout",
     "output_type": "stream",
     "text": [
      "/home/fabian/Documents/Code/DataScience/numpy\n"
     ]
    }
   ],
   "source": [
    "import os\n",
    "print(os.getcwd())"
   ]
  },
  {
   "cell_type": "code",
   "execution_count": 12,
   "id": "624f9067-05bc-47d6-9144-dc0cd64a88e8",
   "metadata": {},
   "outputs": [],
   "source": [
    "import sqlite3\n",
    "import pandas as pd \n",
    "import numpy as np\n",
    "import matplotlib.pyplot as plt\n",
    "import seaborn as sns\n",
    "from math import sqrt\n",
    "\n",
    "from sklearn.linear_model import LinearRegression # LR module\n",
    "from sklearn.model_selection import train_test_split # test data\n",
    "from sklearn import preprocessing # Preprocessing\n",
    "from sklearn.metrics import accuracy_score # ML orecision\n",
    "from sklearn.metrics import mean_squared_error # MSE"
   ]
  },
  {
   "cell_type": "code",
   "execution_count": 14,
   "id": "1f34ffd0-d0a3-46a8-85e5-24b17aa51bc7",
   "metadata": {},
   "outputs": [],
   "source": [
    "cnn = sqlite3.connect('data/database.sqlite')\n",
    "df = pd.read_sql_query('SELECT * FROM Player_Attributes', cnn)"
   ]
  },
  {
   "cell_type": "code",
   "execution_count": 18,
   "id": "f33065cc-daca-4040-a234-9c2017001b10",
   "metadata": {},
   "outputs": [
    {
     "data": {
      "text/plain": [
       "Index(['id', 'player_fifa_api_id', 'player_api_id', 'date', 'overall_rating',\n",
       "       'potential', 'preferred_foot', 'attacking_work_rate',\n",
       "       'defensive_work_rate', 'crossing', 'finishing', 'heading_accuracy',\n",
       "       'short_passing', 'volleys', 'dribbling', 'curve', 'free_kick_accuracy',\n",
       "       'long_passing', 'ball_control', 'acceleration', 'sprint_speed',\n",
       "       'agility', 'reactions', 'balance', 'shot_power', 'jumping', 'stamina',\n",
       "       'strength', 'long_shots', 'aggression', 'interceptions', 'positioning',\n",
       "       'vision', 'penalties', 'marking', 'standing_tackle', 'sliding_tackle',\n",
       "       'gk_diving', 'gk_handling', 'gk_kicking', 'gk_positioning',\n",
       "       'gk_reflexes'],\n",
       "      dtype='object')"
      ]
     },
     "execution_count": 18,
     "metadata": {},
     "output_type": "execute_result"
    }
   ],
   "source": [
    "df.shape\n",
    "df.columns"
   ]
  }
 ],
 "metadata": {
  "kernelspec": {
   "display_name": "Python 3 (ipykernel)",
   "language": "python",
   "name": "python3"
  },
  "language_info": {
   "codemirror_mode": {
    "name": "ipython",
    "version": 3
   },
   "file_extension": ".py",
   "mimetype": "text/x-python",
   "name": "python",
   "nbconvert_exporter": "python",
   "pygments_lexer": "ipython3",
   "version": "3.9.12"
  }
 },
 "nbformat": 4,
 "nbformat_minor": 5
}
