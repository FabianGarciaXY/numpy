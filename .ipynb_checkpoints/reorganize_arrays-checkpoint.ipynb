{
 "cells": [
  {
   "cell_type": "markdown",
   "id": "b67e6117-3ed4-46e9-9078-7d036b0cdcb5",
   "metadata": {},
   "source": [
    "# <b>Reorganize arrays</b>\n"
   ]
  },
  {
   "cell_type": "code",
   "execution_count": 2,
   "id": "52299bfc-205b-465f-ab72-8420dd575dcd",
   "metadata": {},
   "outputs": [],
   "source": [
    "import numpy as np"
   ]
  },
  {
   "cell_type": "code",
   "execution_count": 5,
   "id": "a27c56d0-ec47-4748-9d5e-87edcd106a10",
   "metadata": {},
   "outputs": [
    {
     "name": "stdout",
     "output_type": "stream",
     "text": [
      "[[1 2 3 4]\n",
      " [5 6 7 8]]\n"
     ]
    }
   ],
   "source": [
    "n1 = np.array([[1, 2, 3, 4],[5, 6, 7, 8]])\n",
    "print(n1)"
   ]
  },
  {
   "cell_type": "code",
   "execution_count": 8,
   "id": "efc27bae-a954-49be-be03-bde13d7d54bf",
   "metadata": {},
   "outputs": [
    {
     "name": "stdout",
     "output_type": "stream",
     "text": [
      "[[1 2]\n",
      " [3 4]\n",
      " [5 6]\n",
      " [7 8]]\n"
     ]
    }
   ],
   "source": [
    "# Reshape\n",
    "# Must to match with the quantity of elements\n",
    "n2 = n1.reshape((4, 2))\n",
    "print(n2)"
   ]
  },
  {
   "cell_type": "code",
   "execution_count": 11,
   "id": "6c02ebda-b924-4848-bbd7-7b2f935b93e4",
   "metadata": {},
   "outputs": [
    {
     "data": {
      "text/plain": [
       "array([[1, 2, 3, 4],\n",
       "       [4, 5, 6, 7],\n",
       "       [1, 2, 3, 4],\n",
       "       [1, 2, 3, 4]])"
      ]
     },
     "execution_count": 11,
     "metadata": {},
     "output_type": "execute_result"
    }
   ],
   "source": [
    "# Vertical Stack\n",
    "# Move vectors vertically\n",
    "# This function let us create arrays dinamically\n",
    "a1 = np.array([1, 2, 3, 4])\n",
    "a2 = np.array([4, 5, 6, 7])\n",
    "\n",
    "np.vstack([a1, a2, a1, a1])"
   ]
  },
  {
   "cell_type": "code",
   "execution_count": 17,
   "id": "a494dbfa-71f8-4a95-b0b2-825e2b2dd65c",
   "metadata": {},
   "outputs": [
    {
     "data": {
      "text/plain": [
       "array([[1, 2, 3, 4, 0, 0, 1, 2, 3, 4],\n",
       "       [1, 2, 3, 4, 0, 0, 1, 2, 3, 4]])"
      ]
     },
     "execution_count": 17,
     "metadata": {},
     "output_type": "execute_result"
    }
   ],
   "source": [
    "# Horizontal Stack\n",
    "# This allow us add vectors horizontally\n",
    "h1 = np.array([[1, 2, 3, 4], [1, 2, 3, 4]])\n",
    "h2 = np.array([[0, 0],[0, 0]])\n",
    "\n",
    "# The elements will ve added to the right zone\n",
    "np.hstack((h1, h2, h1))"
   ]
  },
  {
   "cell_type": "markdown",
   "id": "b6701837-5c90-4f1d-8e35-1ba18c31d74a",
   "metadata": {},
   "source": [
    "# Get data from files"
   ]
  },
  {
   "cell_type": "code",
   "execution_count": 57,
   "id": "2d24df77-92ac-474f-ac84-58d29b2779cd",
   "metadata": {},
   "outputs": [
    {
     "name": "stdout",
     "output_type": "stream",
     "text": [
      "[[77. 86. 24. 34. 16. 16. 31. 18. 57. 45. 89. 73. 14. 42. 84.]\n",
      " [69. 33. 18. 52.  9. 96. 63.  3. 99. 56. 92. 12. 29. 88. 52.]\n",
      " [88. 63. 11. 35. 16. 26. 16. 31. 27. 62. 28. 53. 12. 21. 11.]]\n",
      "\n",
      " [[77 86 24 34 16 16 31 18 57 45 89 73 14 42 84]\n",
      " [69 33 18 52  9 96 63  3 99 56 92 12 29 88 52]\n",
      " [88 63 11 35 16 26 16 31 27 62 28 53 12 21 11]]\n"
     ]
    }
   ],
   "source": [
    "data = np.genfromtxt('data.txt', delimiter=\",\")\n",
    "print(data)\n",
    "\n",
    "# We can convert the array into other type\n",
    "data_int = data.astype('int16')\n",
    "print(\"\\n\",data_int)"
   ]
  },
  {
   "cell_type": "markdown",
   "id": "a2cc87b2-f026-451d-986a-ee1efcb7d18f",
   "metadata": {},
   "source": [
    "# Indexing"
   ]
  },
  {
   "cell_type": "code",
   "execution_count": 61,
   "id": "45b31985-2941-4ca0-915f-48d317d1d8cb",
   "metadata": {},
   "outputs": [
    {
     "data": {
      "text/plain": [
       "array([77., 86., 57., 89., 73., 84., 69., 52., 96., 63., 99., 56., 92.,\n",
       "       88., 52., 88., 63., 62., 53.])"
      ]
     },
     "execution_count": 61,
     "metadata": {},
     "output_type": "execute_result"
    }
   ],
   "source": [
    "# Boolean masking and indexing\n",
    "# - if we use array > 50 returns booleans\n",
    "# - so we can use [] to get the actual values inside that array\n",
    "data[data > 50]"
   ]
  },
  {
   "cell_type": "code",
   "execution_count": 63,
   "id": "b79345fd-89ef-4073-a80b-3eb6f9390338",
   "metadata": {},
   "outputs": [
    {
     "data": {
      "text/plain": [
       "array([2, 3, 9])"
      ]
     },
     "execution_count": 63,
     "metadata": {},
     "output_type": "execute_result"
    }
   ],
   "source": [
    "a = np.array([1, 2, 3, 4, 5, 6, 7, 8, 9, 10])\n",
    "\n",
    "# We can use [[]] to get values using indices\n",
    "a[[1, 2, 8]]"
   ]
  },
  {
   "cell_type": "code",
   "execution_count": 66,
   "id": "ebef1675-63a3-47fa-baa3-03585c5865a6",
   "metadata": {},
   "outputs": [
    {
     "data": {
      "text/plain": [
       "array([ True,  True, False,  True, False,  True,  True, False,  True,\n",
       "        True,  True,  True, False,  True,  True])"
      ]
     },
     "execution_count": 66,
     "metadata": {},
     "output_type": "execute_result"
    }
   ],
   "source": [
    "# With Any we can evaluate specific columns\n",
    "np.any(data > 50, axis=0)"
   ]
  },
  {
   "cell_type": "code",
   "execution_count": 70,
   "id": "a91afbf0-5330-4f3a-8745-a0feb07cfa40",
   "metadata": {},
   "outputs": [
    {
     "data": {
      "text/plain": [
       "array([[ True,  True,  True,  True,  True,  True,  True,  True, False,\n",
       "         True,  True,  True,  True,  True,  True],\n",
       "       [ True,  True,  True, False,  True,  True,  True,  True,  True,\n",
       "        False,  True,  True,  True,  True, False],\n",
       "       [ True,  True,  True,  True,  True,  True,  True,  True,  True,\n",
       "         True,  True, False,  True,  True,  True]])"
      ]
     },
     "execution_count": 70,
     "metadata": {},
     "output_type": "execute_result"
    }
   ],
   "source": [
    "# We can use multiple conditions\n",
    "((data > 50) & (data < 60))"
   ]
  }
 ],
 "metadata": {
  "kernelspec": {
   "display_name": "Python 3 (ipykernel)",
   "language": "python",
   "name": "python3"
  },
  "language_info": {
   "codemirror_mode": {
    "name": "ipython",
    "version": 3
   },
   "file_extension": ".py",
   "mimetype": "text/x-python",
   "name": "python",
   "nbconvert_exporter": "python",
   "pygments_lexer": "ipython3",
   "version": "3.9.12"
  }
 },
 "nbformat": 4,
 "nbformat_minor": 5
}
