{
 "cells": [
  {
   "cell_type": "markdown",
   "id": "2dbdffcf",
   "metadata": {},
   "source": [
    "## Differents Arrays"
   ]
  },
  {
   "cell_type": "code",
   "execution_count": 2,
   "id": "97035c55",
   "metadata": {},
   "outputs": [],
   "source": [
    "import numpy as np"
   ]
  },
  {
   "cell_type": "code",
   "execution_count": 6,
   "id": "52d43ef4",
   "metadata": {},
   "outputs": [
    {
     "data": {
      "text/plain": [
       "array([0., 0., 0., 0., 0., 0., 0., 0., 0., 0.])"
      ]
     },
     "execution_count": 6,
     "metadata": {},
     "output_type": "execute_result"
    }
   ],
   "source": [
    "# Array of Zeros\n",
    "np.zeros(10)"
   ]
  },
  {
   "cell_type": "code",
   "execution_count": 8,
   "id": "92ca78c8",
   "metadata": {},
   "outputs": [
    {
     "data": {
      "text/plain": [
       "array([[0., 0., 0., 0., 0.],\n",
       "       [0., 0., 0., 0., 0.]])"
      ]
     },
     "execution_count": 8,
     "metadata": {},
     "output_type": "execute_result"
    }
   ],
   "source": [
    "# More complex array of Zeros by using a tuple\n",
    "np.zeros((2, 5))"
   ]
  },
  {
   "cell_type": "code",
   "execution_count": 36,
   "id": "891274a1",
   "metadata": {},
   "outputs": [
    {
     "data": {
      "text/plain": [
       "array([[[1, 1],\n",
       "        [1, 1]],\n",
       "\n",
       "       [[1, 1],\n",
       "        [1, 1]],\n",
       "\n",
       "       [[1, 1],\n",
       "        [1, 1]],\n",
       "\n",
       "       [[1, 1],\n",
       "        [1, 1]]], dtype=int32)"
      ]
     },
     "execution_count": 36,
     "metadata": {},
     "output_type": "execute_result"
    }
   ],
   "source": [
    "# Array of Ones\n",
    "np.ones((4, 2, 2), dtype='int32')"
   ]
  },
  {
   "cell_type": "code",
   "execution_count": 38,
   "id": "a6e7b7c6",
   "metadata": {},
   "outputs": [
    {
     "data": {
      "text/plain": [
       "array([[100., 100., 100.],\n",
       "       [100., 100., 100.]], dtype=float16)"
      ]
     },
     "execution_count": 38,
     "metadata": {},
     "output_type": "execute_result"
    }
   ],
   "source": [
    "# Create an array with any other Numbers\n",
    "np.full((2, 3), 100, dtype='float16')"
   ]
  },
  {
   "cell_type": "code",
   "execution_count": 44,
   "id": "6ec8b9a3",
   "metadata": {},
   "outputs": [
    {
     "data": {
      "text/plain": [
       "array([[4, 4, 4, 4, 4],\n",
       "       [4, 4, 4, 4, 4]])"
      ]
     },
     "execution_count": 44,
     "metadata": {},
     "output_type": "execute_result"
    }
   ],
   "source": [
    "# Array with a given shape with any number\n",
    "a = np.array([[1, 2, 3, 4, 5],[2, 4, 6, 8, 10]])\n",
    "\n",
    "np.full_like(a, 4)"
   ]
  },
  {
   "cell_type": "code",
   "execution_count": 61,
   "id": "9643733e",
   "metadata": {},
   "outputs": [
    {
     "data": {
      "text/plain": [
       "array([[0.82009966, 0.99477713],\n",
       "       [0.3774214 , 0.05731781],\n",
       "       [0.4678094 , 0.74766613]])"
      ]
     },
     "execution_count": 61,
     "metadata": {},
     "output_type": "execute_result"
    }
   ],
   "source": [
    "# Random decimal numbers\n",
    "np.random.rand(3, 2)\n"
   ]
  },
  {
   "cell_type": "code",
   "execution_count": 63,
   "id": "b4118c54",
   "metadata": {},
   "outputs": [
    {
     "data": {
      "text/plain": [
       "array([[0.65394124, 0.62746088, 0.49067782, 0.91273643, 0.23087158],\n",
       "       [0.27418431, 0.11517707, 0.13520158, 0.05674534, 0.33131731]])"
      ]
     },
     "execution_count": 63,
     "metadata": {},
     "output_type": "execute_result"
    }
   ],
   "source": [
    "np.random.random_sample(a.shape)"
   ]
  },
  {
   "cell_type": "code",
   "execution_count": 67,
   "id": "d94d9717",
   "metadata": {},
   "outputs": [
    {
     "data": {
      "text/plain": [
       "array([[8, 4],\n",
       "       [0, 6]])"
      ]
     },
     "execution_count": 67,
     "metadata": {},
     "output_type": "execute_result"
    }
   ],
   "source": [
    "# Ramdom Integers (range, shape)\n",
    "np.random.randint(10, size=(2, 2))"
   ]
  },
  {
   "cell_type": "code",
   "execution_count": 73,
   "id": "5190c9e2",
   "metadata": {},
   "outputs": [
    {
     "data": {
      "text/plain": [
       "array([[1., 0., 0., 0., 0.],\n",
       "       [0., 1., 0., 0., 0.],\n",
       "       [0., 0., 1., 0., 0.],\n",
       "       [0., 0., 0., 1., 0.],\n",
       "       [0., 0., 0., 0., 1.]])"
      ]
     },
     "execution_count": 73,
     "metadata": {},
     "output_type": "execute_result"
    }
   ],
   "source": [
    "# Identity Matrix\n",
    "np.identity(5)"
   ]
  },
  {
   "cell_type": "code",
   "execution_count": 90,
   "id": "7d27655f",
   "metadata": {},
   "outputs": [
    {
     "data": {
      "text/plain": [
       "array([[3, 2, 3],\n",
       "       [3, 2, 3],\n",
       "       [3, 2, 3],\n",
       "       [3, 2, 3]])"
      ]
     },
     "execution_count": 90,
     "metadata": {},
     "output_type": "execute_result"
    }
   ],
   "source": [
    "# Repeat an array elements\n",
    "arr = np.array([[3, 2, 3]])\n",
    "# (array, times, axis)\n",
    "arr2 = np.repeat(arr, 4, axis=0)\n",
    "arr2"
   ]
  },
  {
   "cell_type": "markdown",
   "id": "0eb5ffa7-498f-4de2-806a-988051e2b212",
   "metadata": {},
   "source": [
    "# CHALLENGE\n",
    "Create a Matrix with the following shape using arrays only\n",
    "\n",
    "   1, 1, 1, 1, 1 \\\n",
    "   1, 0, 0, 0, 1 \\\n",
    "   1, 0, 9, 0, 1 \\\n",
    "   1, 0, 0, 0, 1 \\\n",
    "   1, 1, 1, 1, 1 "
   ]
  },
  {
   "cell_type": "markdown",
   "id": "2c1e79ca",
   "metadata": {},
   "source": [
    "\n",
    "\n",
    "\n",
    "\n",
    "\n",
    "\n",
    "\n",
    "\n",
    "\n"
   ]
  },
  {
   "cell_type": "code",
   "execution_count": 34,
   "id": "9de5259a-5871-4cbd-981b-e6e8772e9134",
   "metadata": {},
   "outputs": [
    {
     "name": "stdout",
     "output_type": "stream",
     "text": [
      "[[1. 1. 1. 1. 1.]\n",
      " [1. 0. 0. 0. 1.]\n",
      " [1. 0. 9. 0. 1.]\n",
      " [1. 0. 0. 0. 1.]\n",
      " [1. 1. 1. 1. 1.]]\n"
     ]
    }
   ],
   "source": [
    "ones = np.ones((5, 5))\n",
    "zeros = np.zeros((3, 3))\n",
    "nine = np.array(9)\n",
    "\n",
    "zeros[1, 1] = nine\n",
    "ones[1:4,1:4] = zeros\n",
    "print(ones)"
   ]
  },
  {
   "cell_type": "markdown",
   "id": "5593247d-13a0-440d-ba41-462174c869d8",
   "metadata": {},
   "source": [
    "## Copying\n",
    "#### We must be carefully when copying numpy arrays"
   ]
  },
  {
   "cell_type": "code",
   "execution_count": 43,
   "id": "5251e71f-69cd-4215-b9c8-e7e50b969aa1",
   "metadata": {},
   "outputs": [
    {
     "name": "stdout",
     "output_type": "stream",
     "text": [
      "b array equals: [100   2   3] \n",
      "And a array equals: [100   2   3] too!\n"
     ]
    }
   ],
   "source": [
    "# Creating an array\n",
    "a = np.array([1, 2, 3])\n",
    "# We 'copy' the array a\n",
    "b = a\n",
    "\n",
    "# Changing a value in the array copied\n",
    "b[0] = 100\n",
    "# b = [100, 2, 3] \n",
    "# a = [100, 2, 3] Also!!!\n",
    "print(f'b array equals: {b} \\nAnd a array equals: {a} too!')\n",
    "\n"
   ]
  },
  {
   "cell_type": "code",
   "execution_count": 52,
   "id": "698056f4-5266-4a45-b50e-d3fb03a8b587",
   "metadata": {},
   "outputs": [
    {
     "name": "stdout",
     "output_type": "stream",
     "text": [
      "New array using copy [99  2  3]\n",
      "First array [100   2   3]\n"
     ]
    }
   ],
   "source": [
    "# Using copy() function\n",
    "bcopy = a.copy()\n",
    "# So we change an elenment\n",
    "bcopy[0] = 99\n",
    "\n",
    "print(f\"New array using copy {bcopy}\")\n",
    "print(f\"First array {a}\")\n",
    "# And 'a' array does not change anymore :)"
   ]
  }
 ],
 "metadata": {
  "kernelspec": {
   "display_name": "Python 3 (ipykernel)",
   "language": "python",
   "name": "python3"
  },
  "language_info": {
   "codemirror_mode": {
    "name": "ipython",
    "version": 3
   },
   "file_extension": ".py",
   "mimetype": "text/x-python",
   "name": "python",
   "nbconvert_exporter": "python",
   "pygments_lexer": "ipython3",
   "version": "3.9.12"
  }
 },
 "nbformat": 4,
 "nbformat_minor": 5
}
