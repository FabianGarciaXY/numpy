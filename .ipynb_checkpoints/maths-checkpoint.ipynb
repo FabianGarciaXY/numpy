{
 "cells": [
  {
   "cell_type": "code",
   "execution_count": 28,
   "id": "bab0f72d-5c66-4f79-94ec-1e179345a6e2",
   "metadata": {},
   "outputs": [],
   "source": [
    "import numpy as np"
   ]
  },
  {
   "cell_type": "code",
   "execution_count": 12,
   "id": "dccee936-7eee-4a1b-9783-de5c5fd71052",
   "metadata": {},
   "outputs": [
    {
     "name": "stdout",
     "output_type": "stream",
     "text": [
      "[1 2 3 4]\n"
     ]
    }
   ],
   "source": [
    "a = np.array([1, 2, 3, 4])\n",
    "print(a)"
   ]
  },
  {
   "cell_type": "markdown",
   "id": "d1a00b47-e7e1-4eaa-b83c-a8e41c8a56a1",
   "metadata": {},
   "source": [
    "# <b>Basic Operations</b>"
   ]
  },
  {
   "cell_type": "code",
   "execution_count": 16,
   "id": "190e79c3-a7b1-4c56-9611-654761396173",
   "metadata": {},
   "outputs": [
    {
     "name": "stdout",
     "output_type": "stream",
     "text": [
      "[3 4 5 6]\n",
      "[-2 -1  0  1]\n",
      "[10 20 30 40]\n",
      "[0.33333333 0.66666667 1.         1.33333333]\n",
      "[ 1  8 27 64]\n",
      "[5 5 5 5]\n",
      "[ 0.84147098  0.90929743  0.14112001 -0.7568025 ]\n"
     ]
    }
   ],
   "source": [
    "# Add 5 to each element\n",
    "print(a + 2)\n",
    "\n",
    "# Subtract 1 to each element\n",
    "print(a - 3)\n",
    "\n",
    "# Multiply by 10\n",
    "print(a * 10)\n",
    "\n",
    "# Divide each element by 3\n",
    "print(a / 3)\n",
    "\n",
    "# Power\n",
    "print(a ** 3)\n",
    "\n",
    "# Or sum 2 arrays\n",
    "b = np.array([4, 3, 2, 1])\n",
    "print(a + b)\n",
    "\n",
    "# Get sin or cos of each value\n",
    "print(np.sin(a))"
   ]
  },
  {
   "cell_type": "markdown",
   "id": "6d64bf81-7d88-4175-8996-5792d8434c48",
   "metadata": {},
   "source": [
    "# <b>Linear Algebra</b>"
   ]
  },
  {
   "cell_type": "code",
   "execution_count": 22,
   "id": "5be3b162-11f0-4fe4-ae34-88051d6eea4c",
   "metadata": {},
   "outputs": [
    {
     "name": "stdout",
     "output_type": "stream",
     "text": [
      "[[1. 1. 1.]\n",
      " [1. 1. 1.]]\n",
      "\n",
      " [[2 2]\n",
      " [2 2]\n",
      " [2 2]]\n"
     ]
    },
    {
     "data": {
      "text/plain": [
       "array([[6., 6.],\n",
       "       [6., 6.]])"
      ]
     },
     "execution_count": 22,
     "metadata": {},
     "output_type": "execute_result"
    }
   ],
   "source": [
    "a = np.ones((2, 3))\n",
    "print(a)\n",
    "\n",
    "b = np.full((3, 2), 2)\n",
    "print(\"\\n\",b)\n",
    "\n",
    "np.matmul(a, b)"
   ]
  },
  {
   "cell_type": "code",
   "execution_count": 55,
   "id": "10573e59-3280-40a7-8d2e-8614317efcd7",
   "metadata": {},
   "outputs": [
    {
     "name": "stdout",
     "output_type": "stream",
     "text": [
      "[[1. 0. 0.]\n",
      " [0. 1. 0.]\n",
      " [0. 0. 1.]]\n"
     ]
    },
    {
     "data": {
      "text/plain": [
       "1.0"
      ]
     },
     "execution_count": 55,
     "metadata": {},
     "output_type": "execute_result"
    }
   ],
   "source": [
    "# Determinant\n",
    "c = np.identity(3)\n",
    "print(c)\n",
    "\n",
    "np.linalg.det(c)"
   ]
  },
  {
   "cell_type": "markdown",
   "id": "cc2d2c6b-db99-4509-a08d-90b3a9a1749e",
   "metadata": {},
   "source": [
    "# <b>Statistics</b>"
   ]
  },
  {
   "cell_type": "code",
   "execution_count": 56,
   "id": "167f3fdc-180e-479b-8288-eb1613bc677a",
   "metadata": {},
   "outputs": [
    {
     "data": {
      "text/plain": [
       "array([[1, 2, 3],\n",
       "       [4, 5, 6]])"
      ]
     },
     "execution_count": 56,
     "metadata": {},
     "output_type": "execute_result"
    }
   ],
   "source": [
    "stats = np.array([[1, 2, 3], [4, 5, 6]])\n",
    "stats"
   ]
  },
  {
   "cell_type": "code",
   "execution_count": 67,
   "id": "d67f938b-ae52-4c8c-b1e1-c30d61905876",
   "metadata": {},
   "outputs": [
    {
     "name": "stdout",
     "output_type": "stream",
     "text": [
      "Min row is [1 2 3]\n",
      "Max column: [3 6]\n",
      "21\n",
      "[ 5 10]\n"
     ]
    }
   ],
   "source": [
    "# Get some statistics\n",
    "# axis1 = Columns\n",
    "# axis0 = rows\n",
    "\n",
    "# Min\n",
    "min = np.min(stats, axis=0)\n",
    "print(f\"Min row is {min}\")\n",
    "\n",
    "# Max\n",
    "max = np.max(stats, axis=1)\n",
    "print(f\"Max column: {max}\")\n",
    "\n",
    "# Sum of entire elements\n",
    "sum_all_elements = np.sum(stats)\n",
    "print(sum_all_elements)\n",
    "\n",
    "# Sum elements of a row or column\n",
    "# Sum al columns (reduce)\n",
    "np.sum(stats, axis=1)\n",
    "\n",
    "# Get the colum with the max sum values\n",
    "a = np.array(([1, 2, 3, 4, 5], [6, 7, 8, 9, 10]))\n",
    "b = np.max(a, axis=1)\n",
    "print(b)"
   ]
  }
 ],
 "metadata": {
  "kernelspec": {
   "display_name": "Python 3 (ipykernel)",
   "language": "python",
   "name": "python3"
  },
  "language_info": {
   "codemirror_mode": {
    "name": "ipython",
    "version": 3
   },
   "file_extension": ".py",
   "mimetype": "text/x-python",
   "name": "python",
   "nbconvert_exporter": "python",
   "pygments_lexer": "ipython3",
   "version": "3.9.12"
  }
 },
 "nbformat": 4,
 "nbformat_minor": 5
}
